{
 "cells": [
  {
   "cell_type": "code",
   "execution_count": null,
   "id": "3f09000a-45eb-412e-9a81-d0ff5658abe6",
   "metadata": {},
   "outputs": [],
   "source": []
  },
  {
   "cell_type": "code",
   "execution_count": 5,
   "id": "94156dd1-d2f3-44a0-9b34-f11f94c2b19c",
   "metadata": {},
   "outputs": [
    {
     "name": "stdout",
     "output_type": "stream",
     "text": [
      "[('Virat Kohli', 24936), ('Jack Kallis', 25534), ('Ricky Ponting', 27483), ('Sachin Tendulkar', 34357)]\n"
     ]
    }
   ],
   "source": [
    "#Q.1 Ans-\n",
    "\n",
    "tuples_list = [('Sachin Tendulkar', 34357), ('Ricky Ponting', 27483), ('Jack Kallis', 25534), ('Virat Kohli', 24936)]\n",
    "\n",
    "sorted_tuples_list = sorted(tuples_list, key=lambda x: x[1])\n",
    "\n",
    "print(sorted_tuples_list)\n"
   ]
  },
  {
   "cell_type": "code",
   "execution_count": 4,
   "id": "89af7005-ccfe-435c-9113-99bbf7cbb9b2",
   "metadata": {},
   "outputs": [
    {
     "data": {
      "text/plain": [
       "[1, 4, 9, 16, 25, 36, 49, 64, 81, 100]"
      ]
     },
     "execution_count": 4,
     "metadata": {},
     "output_type": "execute_result"
    }
   ],
   "source": [
    "#Q.2 Ans-\n",
    "\n",
    "l = [1, 2, 3, 4, 5, 6, 7, 8, 9, 10]\n",
    "list(map(lambda x: x**2, l))"
   ]
  },
  {
   "cell_type": "code",
   "execution_count": 6,
   "id": "5840ed1d-ab3c-4a69-b5c7-d7c740a73834",
   "metadata": {},
   "outputs": [
    {
     "data": {
      "text/plain": [
       "('1', '2', '3', '4', '5', '6', '7', '8', '9', '10')"
      ]
     },
     "execution_count": 6,
     "metadata": {},
     "output_type": "execute_result"
    }
   ],
   "source": [
    "#Q.3 Ans-\n",
    "l8 = [1, 2, 3, 4, 5, 6, 7, 8, 9, 10]\n",
    "\n",
    "tuple(map(lambda x: str(x), l8))"
   ]
  },
  {
   "cell_type": "code",
   "execution_count": 7,
   "id": "94387c0f-ed20-4762-9d38-c9b18fb8a674",
   "metadata": {},
   "outputs": [
    {
     "data": {
      "text/plain": [
       "15511210043330985984000000"
      ]
     },
     "execution_count": 7,
     "metadata": {},
     "output_type": "execute_result"
    }
   ],
   "source": [
    "#Q.4 Ans-\n",
    "\n",
    "from functools import reduce\n",
    "\n",
    "l = range(1, 26)\n",
    "\n",
    "reduce(lambda x, y: x*y, l)"
   ]
  },
  {
   "cell_type": "code",
   "execution_count": 8,
   "id": "7eba47d2-846d-416d-89ed-f04b98acf25e",
   "metadata": {},
   "outputs": [
    {
     "data": {
      "text/plain": [
       "[2, 3, 6, 9, 27, 60, 90, 120, 46]"
      ]
     },
     "execution_count": 8,
     "metadata": {},
     "output_type": "execute_result"
    }
   ],
   "source": [
    "#Q.5 Ans-\n",
    "\n",
    "l= [2, 3, 6, 9, 27, 60, 90, 120, 55, 46]\n",
    "list(filter(lambda x : x%2 == 0 and x%3 == 0, l))"
   ]
  },
  {
   "cell_type": "code",
   "execution_count": null,
   "id": "8e931af8-612a-447d-ad20-5a201cc7bf81",
   "metadata": {},
   "outputs": [],
   "source": []
  }
 ],
 "metadata": {
  "kernelspec": {
   "display_name": "Python 3 (ipykernel)",
   "language": "python",
   "name": "python3"
  },
  "language_info": {
   "codemirror_mode": {
    "name": "ipython",
    "version": 3
   },
   "file_extension": ".py",
   "mimetype": "text/x-python",
   "name": "python",
   "nbconvert_exporter": "python",
   "pygments_lexer": "ipython3",
   "version": "3.10.8"
  }
 },
 "nbformat": 4,
 "nbformat_minor": 5
}
